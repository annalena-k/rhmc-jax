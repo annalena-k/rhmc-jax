{
 "cells": [
  {
   "cell_type": "code",
   "execution_count": 1,
   "metadata": {},
   "outputs": [],
   "source": [
    "import matplotlib.pyplot as plt\n",
    "\n",
    "import jax\n",
    "import jax.numpy as jnp\n",
    "\n",
    "from blackjax.mcmc.integrators import IntegratorState\n",
    "import blackjax.mcmc.metrics as metrics\n",
    "from blackjax.mcmc.hmc import init\n",
    "\n",
    "from rhmcjax.rhmc.intersection_with_boundary import reflection_necessary, find_next_intersection\n",
    "from rhmcjax.targets.gaussians_on_circle import GaussiansOnCircle"
   ]
  },
  {
   "cell_type": "markdown",
   "metadata": {},
   "source": [
    "#### Illustration of Reflection Algorithm used in RHMC\n",
    "This notebook illustrates the reflection algorithm introduced in the paper [Reflection, Refraction, and Hamiltonian Monte Carlo](https://papers.nips.cc/paper_files/paper/2015/hash/8303a79b1e19a194f1875981be5bdb6f-Abstract.html).\n",
    "For this, we use the simple multimodal Gaussian density employed in the notebook `rhmc_example.ipynb`."
   ]
  },
  {
   "cell_type": "code",
   "execution_count": 2,
   "metadata": {},
   "outputs": [],
   "source": [
    "target = GaussiansOnCircle(restrict_to_unit_hypercube=True)\n",
    "log_density_fn = target.log_prob"
   ]
  },
  {
   "cell_type": "markdown",
   "metadata": {},
   "source": [
    "The goal is to visualize how a very large momentum and a large step size result in multiple reflections at the boundary. For this purpose, we copy some contents of the `rhmcjax.rhmc` functions into this notebook since we need to extract some further information for the visualization. "
   ]
  },
  {
   "cell_type": "code",
   "execution_count": 3,
   "metadata": {},
   "outputs": [],
   "source": [
    "inverse_mass_matrix = jnp.array([1, 1])\n",
    "momentum_generator, kinetic_energy_fn, _ = metrics.gaussian_euclidean(\n",
    "            inverse_mass_matrix\n",
    "        )"
   ]
  },
  {
   "cell_type": "code",
   "execution_count": 4,
   "metadata": {},
   "outputs": [],
   "source": [
    "a1 = 0\n",
    "b1 = 0.5\n",
    "a2 = 1 - 2 * a1\n",
    "\n",
    "logdensity_and_grad_fn = jax.value_and_grad(log_density_fn)\n",
    "kinetic_energy_grad_fn = jax.grad(kinetic_energy_fn)\n",
    "\n",
    "def one_step_vis(state: IntegratorState, step_size: float) -> IntegratorState:\n",
    "    position, momentum, logdensity_grad = state.position, state.momentum, state.logdensity_grad\n",
    "\n",
    "    # Half-step evolution of momentum\n",
    "    momentum = jax.tree_util.tree_map(\n",
    "        lambda momentum, logdensity_grad: momentum\n",
    "        + b1 * step_size * logdensity_grad,\n",
    "        momentum,\n",
    "        logdensity_grad,\n",
    "    )\n",
    "\n",
    "    def cond_fn(val):\n",
    "        position, momentum, t = val\n",
    "        return reflection_necessary(position, momentum, kinetic_energy_grad_fn, step_size, t)\n",
    "\n",
    "    t = 0\n",
    "    val = [position, momentum, t]\n",
    "    trace_position = [position]\n",
    "\n",
    "    # While loop has to be written without tracing for saving intermediate positions\n",
    "    while cond_fn(val):\n",
    "        position, momentum, t = val\n",
    "        position, momentum, t_x, ind_boundary = find_next_intersection(position, momentum, kinetic_energy_grad_fn, step_size, t)\n",
    "        t += t_x\n",
    "        # Reverse momentum component perpendicular to boundary\n",
    "        momentum = momentum.at[ind_boundary].set(-momentum[ind_boundary])\n",
    "        trace_position.append(position)\n",
    "        val = [position, momentum, t]\n",
    "\n",
    "\n",
    "    # Update final position (after all reflections)\n",
    "    kinetic_grad = kinetic_energy_grad_fn(momentum)\n",
    "    position = jax.tree_util.tree_map(\n",
    "        lambda position, kinetic_grad: position + a2 * (step_size - t) * kinetic_grad,\n",
    "        position,\n",
    "        kinetic_grad,\n",
    "    )\n",
    "    trace_position.append(position)\n",
    "\n",
    "    # Half-step evolution of momentum\n",
    "    logdensity, logdensity_grad = logdensity_and_grad_fn(position)\n",
    "    momentum = jax.tree_util.tree_map(\n",
    "        lambda momentum, logdensity_grad: momentum\n",
    "        + b1 * step_size * logdensity_grad,\n",
    "        momentum,\n",
    "        logdensity_grad,\n",
    "    )\n",
    "\n",
    "    return jnp.array(trace_position)"
   ]
  },
  {
   "cell_type": "code",
   "execution_count": 5,
   "metadata": {},
   "outputs": [
    {
     "name": "stdout",
     "output_type": "stream",
     "text": [
      "(11, 2)\n"
     ]
    }
   ],
   "source": [
    "position = jnp.array([0.25, 0.25])\n",
    "momentum = jnp.array([2.5, -3.])\n",
    "hmc_state= init(position, log_density_fn)\n",
    "integrator_state = IntegratorState(\n",
    "        hmc_state.position, momentum, hmc_state.logdensity, hmc_state.logdensity_grad\n",
    "    )\n",
    "step_size = 1.\n",
    "traced_positions = one_step_vis(integrator_state, step_size)\n",
    "print(jnp.array(traced_positions).shape)"
   ]
  },
  {
   "cell_type": "markdown",
   "metadata": {},
   "source": [
    "Now, we will visualize the subsequent reflections in a `.gif` using `imageio`:"
   ]
  },
  {
   "cell_type": "code",
   "execution_count": 6,
   "metadata": {},
   "outputs": [],
   "source": [
    "import numpy as np\n",
    "from matplotlib.collections import LineCollection\n",
    "import imageio"
   ]
  },
  {
   "cell_type": "code",
   "execution_count": 7,
   "metadata": {},
   "outputs": [],
   "source": [
    "%%capture\n",
    "def plot_subseq_refl(i):\n",
    "    # Data for plotting\n",
    "    fig, axs = plt.subplots(1,1, figsize=[4.5, 4])\n",
    "    # Create a continuous norm to map from data points to colors\n",
    "    norm = plt.Normalize(0,1)\n",
    "    # Create a set of line segments so that we can color them individually\n",
    "    # This creates the points as an N x 1 x 2 array so that we can stack points\n",
    "    # together easily to get the segments. The segments array for line collection\n",
    "    # needs to be (numlines) x (points per line) x 2 (for x and y)\n",
    "    x = traced_positions[:i,0]\n",
    "    y = traced_positions[:i,1]\n",
    "    points = jnp.array([x, y]).T.reshape(-1, 1, 2)\n",
    "    segments = jnp.concatenate([points[:-1], points[1:]], axis=1)\n",
    "\n",
    "    lc = LineCollection(segments, cmap='cool', norm=norm)\n",
    "    # Set the values used for colormapping\n",
    "    vsl = jnp.linspace(0, 1, len(traced_positions)-1)\n",
    "    lc.set_array(vsl[:i])\n",
    "    lc.set_linewidth(2)\n",
    "    axs.add_collection(lc)\n",
    "    axs.scatter(traced_positions[i-1,0], traced_positions[i-1,1], c='darkred', zorder=4)\n",
    "\n",
    "    # IMPORTANT ANIMATION CODE HERE\n",
    "    # Used to set constant limits\n",
    "    axs.set(xlabel='$x$', ylabel='$y$', xlim=[0, 1], ylim=[0, 1])\n",
    "    # Used to return the plot as an image rray\n",
    "    fig.canvas.draw()       # draw the canvas, cache the renderer\n",
    "    image = np.frombuffer(fig.canvas.tostring_rgb(), dtype='uint8')\n",
    "    image  = image.reshape(fig.canvas.get_width_height()[::-1] + (3,))\n",
    "\n",
    "    return image\n",
    "\n",
    "kwargs_write = {'fps':1.0, 'quantizer':'nq'}\n",
    "imageio.mimsave('../images/reflection.gif', [plot_subseq_refl(i) for i in range(1, len(traced_positions)+1)], fps=1, loop=3)"
   ]
  }
 ],
 "metadata": {
  "kernelspec": {
   "display_name": ".venv",
   "language": "python",
   "name": "python3"
  },
  "language_info": {
   "codemirror_mode": {
    "name": "ipython",
    "version": 3
   },
   "file_extension": ".py",
   "mimetype": "text/x-python",
   "name": "python",
   "nbconvert_exporter": "python",
   "pygments_lexer": "ipython3",
   "version": "3.9.18"
  }
 },
 "nbformat": 4,
 "nbformat_minor": 2
}
